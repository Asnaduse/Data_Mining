{
 "cells": [
  {
   "cell_type": "code",
   "execution_count": 41,
   "id": "efc8ffbd-ec39-4e8e-97df-45e7a7a8021f",
   "metadata": {},
   "outputs": [
    {
     "name": "stdout",
     "output_type": "stream",
     "text": [
      "Requirement already satisfied: pandas in c:\\users\\user\\anaconda3\\lib\\site-packages (2.2.2)\n",
      "Requirement already satisfied: requests in c:\\users\\user\\anaconda3\\lib\\site-packages (2.32.3)\n",
      "Requirement already satisfied: openpyxl in c:\\users\\user\\anaconda3\\lib\\site-packages (3.1.5)\n",
      "Requirement already satisfied: numpy>=1.26.0 in c:\\users\\user\\anaconda3\\lib\\site-packages (from pandas) (1.26.4)\n",
      "Requirement already satisfied: python-dateutil>=2.8.2 in c:\\users\\user\\anaconda3\\lib\\site-packages (from pandas) (2.9.0.post0)\n",
      "Requirement already satisfied: pytz>=2020.1 in c:\\users\\user\\anaconda3\\lib\\site-packages (from pandas) (2024.1)\n",
      "Requirement already satisfied: tzdata>=2022.7 in c:\\users\\user\\anaconda3\\lib\\site-packages (from pandas) (2023.3)\n",
      "Requirement already satisfied: charset-normalizer<4,>=2 in c:\\users\\user\\anaconda3\\lib\\site-packages (from requests) (3.3.2)\n",
      "Requirement already satisfied: idna<4,>=2.5 in c:\\users\\user\\anaconda3\\lib\\site-packages (from requests) (3.7)\n",
      "Requirement already satisfied: urllib3<3,>=1.21.1 in c:\\users\\user\\anaconda3\\lib\\site-packages (from requests) (2.2.3)\n",
      "Requirement already satisfied: certifi>=2017.4.17 in c:\\users\\user\\anaconda3\\lib\\site-packages (from requests) (2024.8.30)\n",
      "Requirement already satisfied: et-xmlfile in c:\\users\\user\\anaconda3\\lib\\site-packages (from openpyxl) (1.1.0)\n",
      "Requirement already satisfied: six>=1.5 in c:\\users\\user\\anaconda3\\lib\\site-packages (from python-dateutil>=2.8.2->pandas) (1.16.0)\n",
      "Note: you may need to restart the kernel to use updated packages.\n"
     ]
    }
   ],
   "source": [
    "pip install pandas requests openpyxl"
   ]
  },
  {
   "cell_type": "code",
   "execution_count": 42,
   "id": "0e96f669-51f1-45df-9d3a-0d2180a6f552",
   "metadata": {},
   "outputs": [
    {
     "name": "stdout",
     "output_type": "stream",
     "text": [
      "   PassengerId                                               Name     Sex  \\\n",
      "0            1                            Braund, Mr. Owen Harris    male   \n",
      "1            2  Cumings, Mrs. John Bradley (Florence Briggs Th...  female   \n",
      "2            3                             Heikkinen, Miss. Laina  female   \n",
      "3            4       Futrelle, Mrs. Jacques Heath (Lily May Peel)  female   \n",
      "4            5                           Allen, Mr. William Henry    male   \n",
      "\n",
      "    Age     Fare  id     employee_name                      email  \n",
      "0  22.0   7.2500   1     Leanne Graham          Sincere@april.biz  \n",
      "1  38.0  71.2833   2      Ervin Howell          Shanna@melissa.tv  \n",
      "2  26.0   7.9250   3  Clementine Bauch         Nathan@yesenia.net  \n",
      "3  35.0  53.1000   4  Patricia Lebsack  Julianne.OConner@kory.org  \n",
      "4  35.0   8.0500   5  Chelsey Dietrich   Lucio_Hettinger@annie.ca  \n"
     ]
    }
   ],
   "source": [
    "import pandas as pd\n",
    "import sqlite3\n",
    "\n",
    "# Step 1: Extract - Load data from different file types\n",
    "csv_url = \"https://raw.githubusercontent.com/datasciencedojo/datasets/master/titanic.csv\"\n",
    "json_url = \"https://jsonplaceholder.typicode.com/users\"\n",
    "\n",
    "# Load CSV and JSON datasets\n",
    "df_csv = pd.read_csv(csv_url)\n",
    "df_json = pd.read_json(json_url)\n",
    "\n",
    "# Step 2: Transform - Data Cleaning and Merging\n",
    "# Example transformation: Selecting relevant columns\n",
    "df_csv_cleaned = df_csv[['PassengerId', 'Name', 'Sex', 'Age', 'Fare']].dropna()\n",
    "df_json_cleaned = df_json[['id', 'name', 'email']].rename(columns={'name': 'employee_name'})\n",
    "\n",
    "# Merging datasets for demonstration (Join on mocked column)\n",
    "df_csv_cleaned['id'] = df_csv_cleaned['PassengerId'] % 10  # Mock 'id' for merging\n",
    "df_transformed = pd.merge(df_csv_cleaned, df_json_cleaned, on='id', how='inner')\n",
    "\n",
    "# Step 3: Load - Create and Insert into SQLite Database\n",
    "conn = sqlite3.connect('data_warehouse.db')\n",
    "df_transformed.to_sql('transformed_data', conn, if_exists='replace', index=False)\n",
    "\n",
    "# Verify the data in the data warehouse\n",
    "print(pd.read_sql('SELECT * FROM transformed_data LIMIT 5', conn))\n",
    "\n",
    "# Close connection\n",
    "conn.close()\n"
   ]
  },
  {
   "cell_type": "code",
   "execution_count": 43,
   "id": "1ed1b069-d41e-4e7a-9d05-c4be2db686de",
   "metadata": {},
   "outputs": [
    {
     "name": "stdout",
     "output_type": "stream",
     "text": [
      "Requirement already satisfied: kaggle in c:\\users\\user\\anaconda3\\lib\\site-packages (1.6.17)\n",
      "Requirement already satisfied: six>=1.10 in c:\\users\\user\\anaconda3\\lib\\site-packages (from kaggle) (1.16.0)\n",
      "Requirement already satisfied: certifi>=2023.7.22 in c:\\users\\user\\anaconda3\\lib\\site-packages (from kaggle) (2024.8.30)\n",
      "Requirement already satisfied: python-dateutil in c:\\users\\user\\anaconda3\\lib\\site-packages (from kaggle) (2.9.0.post0)\n",
      "Requirement already satisfied: requests in c:\\users\\user\\anaconda3\\lib\\site-packages (from kaggle) (2.32.3)\n",
      "Requirement already satisfied: tqdm in c:\\users\\user\\anaconda3\\lib\\site-packages (from kaggle) (4.66.5)\n",
      "Requirement already satisfied: python-slugify in c:\\users\\user\\anaconda3\\lib\\site-packages (from kaggle) (5.0.2)\n",
      "Requirement already satisfied: urllib3 in c:\\users\\user\\anaconda3\\lib\\site-packages (from kaggle) (2.2.3)\n",
      "Requirement already satisfied: bleach in c:\\users\\user\\anaconda3\\lib\\site-packages (from kaggle) (4.1.0)\n",
      "Requirement already satisfied: packaging in c:\\users\\user\\anaconda3\\lib\\site-packages (from bleach->kaggle) (24.1)\n",
      "Requirement already satisfied: webencodings in c:\\users\\user\\anaconda3\\lib\\site-packages (from bleach->kaggle) (0.5.1)\n",
      "Requirement already satisfied: text-unidecode>=1.3 in c:\\users\\user\\anaconda3\\lib\\site-packages (from python-slugify->kaggle) (1.3)\n",
      "Requirement already satisfied: charset-normalizer<4,>=2 in c:\\users\\user\\anaconda3\\lib\\site-packages (from requests->kaggle) (3.3.2)\n",
      "Requirement already satisfied: idna<4,>=2.5 in c:\\users\\user\\anaconda3\\lib\\site-packages (from requests->kaggle) (3.7)\n",
      "Requirement already satisfied: colorama in c:\\users\\user\\anaconda3\\lib\\site-packages (from tqdm->kaggle) (0.4.6)\n",
      "Note: you may need to restart the kernel to use updated packages.\n"
     ]
    }
   ],
   "source": [
    "pip install kaggle"
   ]
  },
  {
   "cell_type": "code",
   "execution_count": null,
   "id": "2a8a84a7-3d93-4adf-9deb-07933f405678",
   "metadata": {},
   "outputs": [],
   "source": []
  },
  {
   "cell_type": "code",
   "execution_count": null,
   "id": "205ffebb-eff7-45be-9f4f-9666513b7d73",
   "metadata": {},
   "outputs": [],
   "source": []
  },
  {
   "cell_type": "code",
   "execution_count": 44,
   "id": "e10cc7cc-facc-4ba6-a23a-c2648da94d1b",
   "metadata": {},
   "outputs": [
    {
     "name": "stdout",
     "output_type": "stream",
     "text": [
      "Requirement already satisfied: kaggle in c:\\users\\user\\anaconda3\\lib\\site-packages (1.6.17)\n",
      "Requirement already satisfied: six>=1.10 in c:\\users\\user\\anaconda3\\lib\\site-packages (from kaggle) (1.16.0)\n",
      "Requirement already satisfied: certifi>=2023.7.22 in c:\\users\\user\\anaconda3\\lib\\site-packages (from kaggle) (2024.8.30)\n",
      "Requirement already satisfied: python-dateutil in c:\\users\\user\\anaconda3\\lib\\site-packages (from kaggle) (2.9.0.post0)\n",
      "Requirement already satisfied: requests in c:\\users\\user\\anaconda3\\lib\\site-packages (from kaggle) (2.32.3)\n",
      "Requirement already satisfied: tqdm in c:\\users\\user\\anaconda3\\lib\\site-packages (from kaggle) (4.66.5)\n",
      "Requirement already satisfied: python-slugify in c:\\users\\user\\anaconda3\\lib\\site-packages (from kaggle) (5.0.2)\n",
      "Requirement already satisfied: urllib3 in c:\\users\\user\\anaconda3\\lib\\site-packages (from kaggle) (2.2.3)\n",
      "Requirement already satisfied: bleach in c:\\users\\user\\anaconda3\\lib\\site-packages (from kaggle) (4.1.0)\n",
      "Requirement already satisfied: packaging in c:\\users\\user\\anaconda3\\lib\\site-packages (from bleach->kaggle) (24.1)\n",
      "Requirement already satisfied: webencodings in c:\\users\\user\\anaconda3\\lib\\site-packages (from bleach->kaggle) (0.5.1)\n",
      "Requirement already satisfied: text-unidecode>=1.3 in c:\\users\\user\\anaconda3\\lib\\site-packages (from python-slugify->kaggle) (1.3)\n",
      "Requirement already satisfied: charset-normalizer<4,>=2 in c:\\users\\user\\anaconda3\\lib\\site-packages (from requests->kaggle) (3.3.2)\n",
      "Requirement already satisfied: idna<4,>=2.5 in c:\\users\\user\\anaconda3\\lib\\site-packages (from requests->kaggle) (3.7)\n",
      "Requirement already satisfied: colorama in c:\\users\\user\\anaconda3\\lib\\site-packages (from tqdm->kaggle) (0.4.6)\n",
      "Note: you may need to restart the kernel to use updated packages.\n"
     ]
    }
   ],
   "source": [
    "pip install kaggle"
   ]
  },
  {
   "cell_type": "code",
   "execution_count": 45,
   "id": "339a8167-f8e4-4f55-b2e1-26e516e7116a",
   "metadata": {},
   "outputs": [],
   "source": [
    "import subprocess\n",
    "import os\n",
    "import pandas as pd\n",
    "import sqlite3\n",
    "import zipfile\n",
    "\n",
    "# Step 1: Install Kaggle API\n",
    "subprocess.run([\"pip\", \"install\", \"kaggle\"])\n",
    "\n",
    "# Step 2: Set Up Kaggle API Credentials\n",
    "kaggle_json = '{\"username\":\"assinathmdusengimana\",\"key\":\"183d4793c71a2e8a44a0b7936c014036\"}'\n",
    "\n",
    "# Create the .kaggle directory\n",
    "os.makedirs(os.path.expanduser(\"~/.kaggle\"), exist_ok=True)\n",
    "\n",
    "# Save kaggle.json in the .kaggle directory\n",
    "with open(os.path.expanduser(\"~/.kaggle/kaggle.json\"), \"w\") as f:\n",
    "    f.write(kaggle_json)\n",
    "\n",
    "# Set file permissions\n",
    "os.chmod(os.path.expanduser(\"~/.kaggle/kaggle.json\"), 0o600)\n"
   ]
  },
  {
   "cell_type": "code",
   "execution_count": 46,
   "id": "95dd7a53-c915-4f44-8bcd-6fe43b402ea0",
   "metadata": {},
   "outputs": [],
   "source": [
    "# Step 3: Download the dataset from Kaggle\n",
    "subprocess.run([\"kaggle\", \"datasets\", \"download\", \"-d\", \"halaturkialotaibi/coffee-bean-sales-dataset\"])\n",
    "\n",
    "# Step 4: Extract the dataset\n",
    "with zipfile.ZipFile(\"coffee-bean-sales-dataset.zip\", \"r\") as zip_ref:\n",
    "    zip_ref.extractall(\"coffee-bean-sales-dataset\")\n"
   ]
  },
  {
   "cell_type": "code",
   "execution_count": 47,
   "id": "7fc55f98-f400-4c88-a949-f0018bbc3369",
   "metadata": {},
   "outputs": [
    {
     "name": "stdout",
     "output_type": "stream",
     "text": [
      "CSV Data:\n",
      "       Date  Customer_ID    City      Category     Product  Unit Price  \\\n",
      "0  1/1/2023           32  Riyadh  coffee beans   Colombian          40   \n",
      "1  1/2/2023           49    Abha  coffee beans  Costa Rica          35   \n",
      "2  1/3/2023           75   Tabuk  coffee beans  Costa Rica          35   \n",
      "3  1/4/2023           80    Abha  coffee beans   Ethiopian          45   \n",
      "4  1/5/2023           78    Hail  coffee beans   Colombian          40   \n",
      "\n",
      "   Quantity  Sales Amount  Used_Discount  Discount_Amount  Final Sales  \n",
      "0        14           560          False                0          560  \n",
      "1        17           595          False                0          595  \n",
      "2        19           665          False                0          665  \n",
      "3         1            45          False                0           45  \n",
      "4        46          1840           True              368         1472  \n",
      "JSON Data:\n",
      "   id              name   username                      email  \\\n",
      "0   1     Leanne Graham       Bret          Sincere@april.biz   \n",
      "1   2      Ervin Howell  Antonette          Shanna@melissa.tv   \n",
      "2   3  Clementine Bauch   Samantha         Nathan@yesenia.net   \n",
      "3   4  Patricia Lebsack   Karianne  Julianne.OConner@kory.org   \n",
      "4   5  Chelsey Dietrich     Kamren   Lucio_Hettinger@annie.ca   \n",
      "\n",
      "                                             address                  phone  \\\n",
      "0  {'street': 'Kulas Light', 'suite': 'Apt. 556',...  1-770-736-8031 x56442   \n",
      "1  {'street': 'Victor Plains', 'suite': 'Suite 87...    010-692-6593 x09125   \n",
      "2  {'street': 'Douglas Extension', 'suite': 'Suit...         1-463-123-4447   \n",
      "3  {'street': 'Hoeger Mall', 'suite': 'Apt. 692',...      493-170-9623 x156   \n",
      "4  {'street': 'Skiles Walks', 'suite': 'Suite 351...          (254)954-1289   \n",
      "\n",
      "         website                                            company  \n",
      "0  hildegard.org  {'name': 'Romaguera-Crona', 'catchPhrase': 'Mu...  \n",
      "1  anastasia.net  {'name': 'Deckow-Crist', 'catchPhrase': 'Proac...  \n",
      "2    ramiro.info  {'name': 'Romaguera-Jacobson', 'catchPhrase': ...  \n",
      "3       kale.biz  {'name': 'Robel-Corkery', 'catchPhrase': 'Mult...  \n",
      "4   demarco.info  {'name': 'Keebler LLC', 'catchPhrase': 'User-c...  \n",
      "Transformed Data:\n",
      "   Customer_ID    City     Product  Quantity  Final Sales  id  \\\n",
      "0           32  Riyadh   Colombian        14          560   2   \n",
      "1           49    Abha  Costa Rica        17          595   9   \n",
      "2           75   Tabuk  Costa Rica        19          665   5   \n",
      "3           78    Hail   Colombian        46         1472   8   \n",
      "4            1  Khobar   Colombian        32         1024   1   \n",
      "\n",
      "              customer_name                     email  \n",
      "0              Ervin Howell         Shanna@melissa.tv  \n",
      "1           Glenna Reichert   Chaim_McDermott@dana.io  \n",
      "2          Chelsey Dietrich  Lucio_Hettinger@annie.ca  \n",
      "3  Nicholas Runolfsdottir V      Sherwood@rosamond.me  \n",
      "4             Leanne Graham         Sincere@april.biz  \n",
      "Data in SQLite:\n",
      "   Customer_ID    City     Product  Quantity  Final Sales  id  \\\n",
      "0           32  Riyadh   Colombian        14          560   2   \n",
      "1           49    Abha  Costa Rica        17          595   9   \n",
      "2           75   Tabuk  Costa Rica        19          665   5   \n",
      "3           78    Hail   Colombian        46         1472   8   \n",
      "4            1  Khobar   Colombian        32         1024   1   \n",
      "\n",
      "              customer_name                     email  \n",
      "0              Ervin Howell         Shanna@melissa.tv  \n",
      "1           Glenna Reichert   Chaim_McDermott@dana.io  \n",
      "2          Chelsey Dietrich  Lucio_Hettinger@annie.ca  \n",
      "3  Nicholas Runolfsdottir V      Sherwood@rosamond.me  \n",
      "4             Leanne Graham         Sincere@april.biz  \n"
     ]
    }
   ],
   "source": [
    "import pandas as pd\n",
    "import sqlite3\n",
    "\n",
    "# Load the extracted CSV dataset\n",
    "csv_path = \"coffee-bean-sales-dataset/DatasetForCoffeeSales2.csv\"\n",
    "df_csv = pd.read_csv(csv_path)\n",
    "\n",
    "# Display the first few rows of the CSV dataset\n",
    "print(\"CSV Data:\")\n",
    "print(df_csv.head())\n",
    "\n",
    "# Load JSON dataset from the web\n",
    "json_url = \"https://jsonplaceholder.typicode.com/users\"\n",
    "df_json = pd.read_json(json_url)\n",
    "\n",
    "# Display the first few rows of the JSON dataset\n",
    "print(\"JSON Data:\")\n",
    "print(df_json.head())\n",
    "\n",
    "# Transform - Data Cleaning and Merging\n",
    "# Select relevant columns from the CSV data\n",
    "df_csv_cleaned = df_csv[['Customer_ID', 'City', 'Product', 'Quantity', 'Final Sales']].dropna()\n",
    "\n",
    "# Select relevant columns from the JSON data and rename for clarity\n",
    "df_json_cleaned = df_json[['id', 'name', 'email']].rename(columns={'name': 'customer_name'})\n",
    "\n",
    "# Mock 'id' for merging (ensure 'Customer_ID' exists in your dataset)\n",
    "df_csv_cleaned['id'] = df_csv_cleaned['Customer_ID'] % 10  # Create a mock 'id' column\n",
    "\n",
    "# Merge datasets on the 'id' column\n",
    "df_transformed = pd.merge(df_csv_cleaned, df_json_cleaned, on='id', how='inner')\n",
    "\n",
    "# Display the transformed data\n",
    "print(\"Transformed Data:\")\n",
    "print(df_transformed.head())\n",
    "\n",
    "# Load - Create and Insert into SQLite Database\n",
    "conn = sqlite3.connect('data_warehouse.db')\n",
    "df_transformed.to_sql('transformed_data', conn, if_exists='replace', index=False)\n",
    "\n",
    "# Verify the data in the data warehouse\n",
    "print(\"Data in SQLite:\")\n",
    "print(pd.read_sql('SELECT * FROM transformed_data LIMIT 5', conn))\n",
    "\n",
    "# Close connection\n",
    "conn.close()\n"
   ]
  },
  {
   "cell_type": "code",
   "execution_count": 50,
   "id": "d4313355-77b9-4c44-90bd-af9cc6f9a25f",
   "metadata": {},
   "outputs": [
    {
     "name": "stdout",
     "output_type": "stream",
     "text": [
      "Current Working Directory: C:\\Users\\user\\Desktop\\my_files\n"
     ]
    }
   ],
   "source": [
    "import os\n",
    "\n",
    "# Print the current working directory\n",
    "print(\"Current Working Directory:\", os.getcwd())\n"
   ]
  },
  {
   "cell_type": "code",
   "execution_count": null,
   "id": "86b88c0e-7e6c-430c-baa7-be1b75e9772d",
   "metadata": {},
   "outputs": [],
   "source": [
    "print(pd.read_sql(\"SELECT name from sqlite_master where type='table';\",conn))"
   ]
  }
 ],
 "metadata": {
  "kernelspec": {
   "display_name": "Python 3 (ipykernel)",
   "language": "python",
   "name": "python3"
  },
  "language_info": {
   "codemirror_mode": {
    "name": "ipython",
    "version": 3
   },
   "file_extension": ".py",
   "mimetype": "text/x-python",
   "name": "python",
   "nbconvert_exporter": "python",
   "pygments_lexer": "ipython3",
   "version": "3.12.7"
  }
 },
 "nbformat": 4,
 "nbformat_minor": 5
}
