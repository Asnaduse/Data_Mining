{
 "cells": [
  {
   "cell_type": "code",
   "execution_count": 1,
   "id": "936d1cf9-888b-4c03-b669-d78373bd5e37",
   "metadata": {},
   "outputs": [],
   "source": [
    "import pandas as pd\n",
    "import sqlite3\n",
    "import requests"
   ]
  },
  {
   "cell_type": "code",
   "execution_count": 3,
   "id": "d9b5d717-aaee-42b0-bd6d-c01189b5193a",
   "metadata": {},
   "outputs": [
    {
     "data": {
      "text/html": [
       "<div>\n",
       "<style scoped>\n",
       "    .dataframe tbody tr th:only-of-type {\n",
       "        vertical-align: middle;\n",
       "    }\n",
       "\n",
       "    .dataframe tbody tr th {\n",
       "        vertical-align: top;\n",
       "    }\n",
       "\n",
       "    .dataframe thead th {\n",
       "        text-align: right;\n",
       "    }\n",
       "</style>\n",
       "<table border=\"1\" class=\"dataframe\">\n",
       "  <thead>\n",
       "    <tr style=\"text-align: right;\">\n",
       "      <th></th>\n",
       "      <th>PassengerId</th>\n",
       "      <th>Survived</th>\n",
       "      <th>Pclass</th>\n",
       "      <th>Name</th>\n",
       "      <th>Sex</th>\n",
       "      <th>Age</th>\n",
       "      <th>SibSp</th>\n",
       "      <th>Parch</th>\n",
       "      <th>Ticket</th>\n",
       "      <th>Fare</th>\n",
       "      <th>Cabin</th>\n",
       "      <th>Embarked</th>\n",
       "    </tr>\n",
       "  </thead>\n",
       "  <tbody>\n",
       "    <tr>\n",
       "      <th>0</th>\n",
       "      <td>1</td>\n",
       "      <td>0</td>\n",
       "      <td>3</td>\n",
       "      <td>Braund, Mr. Owen Harris</td>\n",
       "      <td>male</td>\n",
       "      <td>22.0</td>\n",
       "      <td>1</td>\n",
       "      <td>0</td>\n",
       "      <td>A/5 21171</td>\n",
       "      <td>7.2500</td>\n",
       "      <td>NaN</td>\n",
       "      <td>S</td>\n",
       "    </tr>\n",
       "    <tr>\n",
       "      <th>1</th>\n",
       "      <td>2</td>\n",
       "      <td>1</td>\n",
       "      <td>1</td>\n",
       "      <td>Cumings, Mrs. John Bradley (Florence Briggs Th...</td>\n",
       "      <td>female</td>\n",
       "      <td>38.0</td>\n",
       "      <td>1</td>\n",
       "      <td>0</td>\n",
       "      <td>PC 17599</td>\n",
       "      <td>71.2833</td>\n",
       "      <td>C85</td>\n",
       "      <td>C</td>\n",
       "    </tr>\n",
       "    <tr>\n",
       "      <th>2</th>\n",
       "      <td>3</td>\n",
       "      <td>1</td>\n",
       "      <td>3</td>\n",
       "      <td>Heikkinen, Miss. Laina</td>\n",
       "      <td>female</td>\n",
       "      <td>26.0</td>\n",
       "      <td>0</td>\n",
       "      <td>0</td>\n",
       "      <td>STON/O2. 3101282</td>\n",
       "      <td>7.9250</td>\n",
       "      <td>NaN</td>\n",
       "      <td>S</td>\n",
       "    </tr>\n",
       "    <tr>\n",
       "      <th>3</th>\n",
       "      <td>4</td>\n",
       "      <td>1</td>\n",
       "      <td>1</td>\n",
       "      <td>Futrelle, Mrs. Jacques Heath (Lily May Peel)</td>\n",
       "      <td>female</td>\n",
       "      <td>35.0</td>\n",
       "      <td>1</td>\n",
       "      <td>0</td>\n",
       "      <td>113803</td>\n",
       "      <td>53.1000</td>\n",
       "      <td>C123</td>\n",
       "      <td>S</td>\n",
       "    </tr>\n",
       "    <tr>\n",
       "      <th>4</th>\n",
       "      <td>5</td>\n",
       "      <td>0</td>\n",
       "      <td>3</td>\n",
       "      <td>Allen, Mr. William Henry</td>\n",
       "      <td>male</td>\n",
       "      <td>35.0</td>\n",
       "      <td>0</td>\n",
       "      <td>0</td>\n",
       "      <td>373450</td>\n",
       "      <td>8.0500</td>\n",
       "      <td>NaN</td>\n",
       "      <td>S</td>\n",
       "    </tr>\n",
       "    <tr>\n",
       "      <th>...</th>\n",
       "      <td>...</td>\n",
       "      <td>...</td>\n",
       "      <td>...</td>\n",
       "      <td>...</td>\n",
       "      <td>...</td>\n",
       "      <td>...</td>\n",
       "      <td>...</td>\n",
       "      <td>...</td>\n",
       "      <td>...</td>\n",
       "      <td>...</td>\n",
       "      <td>...</td>\n",
       "      <td>...</td>\n",
       "    </tr>\n",
       "    <tr>\n",
       "      <th>886</th>\n",
       "      <td>887</td>\n",
       "      <td>0</td>\n",
       "      <td>2</td>\n",
       "      <td>Montvila, Rev. Juozas</td>\n",
       "      <td>male</td>\n",
       "      <td>27.0</td>\n",
       "      <td>0</td>\n",
       "      <td>0</td>\n",
       "      <td>211536</td>\n",
       "      <td>13.0000</td>\n",
       "      <td>NaN</td>\n",
       "      <td>S</td>\n",
       "    </tr>\n",
       "    <tr>\n",
       "      <th>887</th>\n",
       "      <td>888</td>\n",
       "      <td>1</td>\n",
       "      <td>1</td>\n",
       "      <td>Graham, Miss. Margaret Edith</td>\n",
       "      <td>female</td>\n",
       "      <td>19.0</td>\n",
       "      <td>0</td>\n",
       "      <td>0</td>\n",
       "      <td>112053</td>\n",
       "      <td>30.0000</td>\n",
       "      <td>B42</td>\n",
       "      <td>S</td>\n",
       "    </tr>\n",
       "    <tr>\n",
       "      <th>888</th>\n",
       "      <td>889</td>\n",
       "      <td>0</td>\n",
       "      <td>3</td>\n",
       "      <td>Johnston, Miss. Catherine Helen \"Carrie\"</td>\n",
       "      <td>female</td>\n",
       "      <td>NaN</td>\n",
       "      <td>1</td>\n",
       "      <td>2</td>\n",
       "      <td>W./C. 6607</td>\n",
       "      <td>23.4500</td>\n",
       "      <td>NaN</td>\n",
       "      <td>S</td>\n",
       "    </tr>\n",
       "    <tr>\n",
       "      <th>889</th>\n",
       "      <td>890</td>\n",
       "      <td>1</td>\n",
       "      <td>1</td>\n",
       "      <td>Behr, Mr. Karl Howell</td>\n",
       "      <td>male</td>\n",
       "      <td>26.0</td>\n",
       "      <td>0</td>\n",
       "      <td>0</td>\n",
       "      <td>111369</td>\n",
       "      <td>30.0000</td>\n",
       "      <td>C148</td>\n",
       "      <td>C</td>\n",
       "    </tr>\n",
       "    <tr>\n",
       "      <th>890</th>\n",
       "      <td>891</td>\n",
       "      <td>0</td>\n",
       "      <td>3</td>\n",
       "      <td>Dooley, Mr. Patrick</td>\n",
       "      <td>male</td>\n",
       "      <td>32.0</td>\n",
       "      <td>0</td>\n",
       "      <td>0</td>\n",
       "      <td>370376</td>\n",
       "      <td>7.7500</td>\n",
       "      <td>NaN</td>\n",
       "      <td>Q</td>\n",
       "    </tr>\n",
       "  </tbody>\n",
       "</table>\n",
       "<p>891 rows × 12 columns</p>\n",
       "</div>"
      ],
      "text/plain": [
       "     PassengerId  Survived  Pclass  \\\n",
       "0              1         0       3   \n",
       "1              2         1       1   \n",
       "2              3         1       3   \n",
       "3              4         1       1   \n",
       "4              5         0       3   \n",
       "..           ...       ...     ...   \n",
       "886          887         0       2   \n",
       "887          888         1       1   \n",
       "888          889         0       3   \n",
       "889          890         1       1   \n",
       "890          891         0       3   \n",
       "\n",
       "                                                  Name     Sex   Age  SibSp  \\\n",
       "0                              Braund, Mr. Owen Harris    male  22.0      1   \n",
       "1    Cumings, Mrs. John Bradley (Florence Briggs Th...  female  38.0      1   \n",
       "2                               Heikkinen, Miss. Laina  female  26.0      0   \n",
       "3         Futrelle, Mrs. Jacques Heath (Lily May Peel)  female  35.0      1   \n",
       "4                             Allen, Mr. William Henry    male  35.0      0   \n",
       "..                                                 ...     ...   ...    ...   \n",
       "886                              Montvila, Rev. Juozas    male  27.0      0   \n",
       "887                       Graham, Miss. Margaret Edith  female  19.0      0   \n",
       "888           Johnston, Miss. Catherine Helen \"Carrie\"  female   NaN      1   \n",
       "889                              Behr, Mr. Karl Howell    male  26.0      0   \n",
       "890                                Dooley, Mr. Patrick    male  32.0      0   \n",
       "\n",
       "     Parch            Ticket     Fare Cabin Embarked  \n",
       "0        0         A/5 21171   7.2500   NaN        S  \n",
       "1        0          PC 17599  71.2833   C85        C  \n",
       "2        0  STON/O2. 3101282   7.9250   NaN        S  \n",
       "3        0            113803  53.1000  C123        S  \n",
       "4        0            373450   8.0500   NaN        S  \n",
       "..     ...               ...      ...   ...      ...  \n",
       "886      0            211536  13.0000   NaN        S  \n",
       "887      0            112053  30.0000   B42        S  \n",
       "888      2        W./C. 6607  23.4500   NaN        S  \n",
       "889      0            111369  30.0000  C148        C  \n",
       "890      0            370376   7.7500   NaN        Q  \n",
       "\n",
       "[891 rows x 12 columns]"
      ]
     },
     "execution_count": 3,
     "metadata": {},
     "output_type": "execute_result"
    }
   ],
   "source": [
    "# Extract CSV Data\n",
    "csv_url = \"https://raw.githubusercontent.com/datasciencedojo/datasets/master/titanic.csv\"\n",
    "df_csv = pd.read_csv(csv_url)\n",
    "df_csv"
   ]
  },
  {
   "cell_type": "code",
   "execution_count": 9,
   "id": "63b45e9f-f6cd-41f5-9a06-7a3dc62a4ded",
   "metadata": {},
   "outputs": [
    {
     "data": {
      "text/plain": [
       "PassengerId      int64\n",
       "Survived         int64\n",
       "Pclass           int64\n",
       "Name            object\n",
       "Sex             object\n",
       "Age            float64\n",
       "SibSp            int64\n",
       "Parch            int64\n",
       "Ticket          object\n",
       "Fare           float64\n",
       "Cabin           object\n",
       "Embarked        object\n",
       "dtype: object"
      ]
     },
     "execution_count": 9,
     "metadata": {},
     "output_type": "execute_result"
    }
   ],
   "source": [
    "df_csv.dtypes"
   ]
  },
  {
   "cell_type": "code",
   "execution_count": 11,
   "id": "de997d26-6762-44bd-93ca-6694e5d0347a",
   "metadata": {},
   "outputs": [
    {
     "data": {
      "text/plain": [
       "PassengerId      0\n",
       "Survived         0\n",
       "Pclass           0\n",
       "Name             0\n",
       "Sex              0\n",
       "Age            177\n",
       "SibSp            0\n",
       "Parch            0\n",
       "Ticket           0\n",
       "Fare             0\n",
       "Cabin          687\n",
       "Embarked         2\n",
       "dtype: int64"
      ]
     },
     "execution_count": 11,
     "metadata": {},
     "output_type": "execute_result"
    }
   ],
   "source": [
    "df_csv.isnull().sum()"
   ]
  },
  {
   "cell_type": "code",
   "execution_count": 49,
   "id": "d95cd722-f6e3-49d8-84aa-32001be828a9",
   "metadata": {},
   "outputs": [],
   "source": [
    "df_csv_cleaned = df_csv.copy()"
   ]
  },
  {
   "cell_type": "code",
   "execution_count": 51,
   "id": "5ec77f10-1a35-420d-8f00-1cce9d4a2d8a",
   "metadata": {},
   "outputs": [],
   "source": [
    "# Fill missing values correctly\n",
    "df_csv_cleaned.loc[:, 'Age'] = df_csv_cleaned['Age'].fillna(df_csv_cleaned['Age'].median())\n",
    "df_csv_cleaned.loc[:, 'Cabin'] = df_csv_cleaned['Cabin'].fillna('Unknown')\n",
    "df_csv_cleaned.loc[:, 'Embarked'] = df_csv_cleaned['Embarked'].fillna(df_csv_cleaned['Embarked'].mode()[0])"
   ]
  },
  {
   "cell_type": "code",
   "execution_count": 55,
   "id": "db5e604a-32bf-4bf5-b485-f1c4ade341da",
   "metadata": {},
   "outputs": [
    {
     "data": {
      "text/plain": [
       "PassengerId    0\n",
       "Survived       0\n",
       "Pclass         0\n",
       "Name           0\n",
       "Sex            0\n",
       "Age            0\n",
       "SibSp          0\n",
       "Parch          0\n",
       "Ticket         0\n",
       "Fare           0\n",
       "Cabin          0\n",
       "Embarked       0\n",
       "dtype: int64"
      ]
     },
     "execution_count": 55,
     "metadata": {},
     "output_type": "execute_result"
    }
   ],
   "source": [
    "df_csv_cleaned.isnull().sum()"
   ]
  },
  {
   "cell_type": "code",
   "execution_count": null,
   "id": "9bf77953-1099-40f4-9d4a-5974ef15d8da",
   "metadata": {},
   "outputs": [],
   "source": []
  },
  {
   "cell_type": "code",
   "execution_count": 23,
   "id": "cdb26b2c-1d7c-41df-b9fc-60c4af25e1c7",
   "metadata": {},
   "outputs": [
    {
     "data": {
      "text/html": [
       "<div>\n",
       "<style scoped>\n",
       "    .dataframe tbody tr th:only-of-type {\n",
       "        vertical-align: middle;\n",
       "    }\n",
       "\n",
       "    .dataframe tbody tr th {\n",
       "        vertical-align: top;\n",
       "    }\n",
       "\n",
       "    .dataframe thead th {\n",
       "        text-align: right;\n",
       "    }\n",
       "</style>\n",
       "<table border=\"1\" class=\"dataframe\">\n",
       "  <thead>\n",
       "    <tr style=\"text-align: right;\">\n",
       "      <th></th>\n",
       "      <th>id</th>\n",
       "      <th>name</th>\n",
       "      <th>username</th>\n",
       "      <th>email</th>\n",
       "      <th>address</th>\n",
       "      <th>phone</th>\n",
       "      <th>website</th>\n",
       "      <th>company</th>\n",
       "    </tr>\n",
       "  </thead>\n",
       "  <tbody>\n",
       "    <tr>\n",
       "      <th>0</th>\n",
       "      <td>1</td>\n",
       "      <td>Leanne Graham</td>\n",
       "      <td>Bret</td>\n",
       "      <td>Sincere@april.biz</td>\n",
       "      <td>{'street': 'Kulas Light', 'suite': 'Apt. 556',...</td>\n",
       "      <td>1-770-736-8031 x56442</td>\n",
       "      <td>hildegard.org</td>\n",
       "      <td>{'name': 'Romaguera-Crona', 'catchPhrase': 'Mu...</td>\n",
       "    </tr>\n",
       "    <tr>\n",
       "      <th>1</th>\n",
       "      <td>2</td>\n",
       "      <td>Ervin Howell</td>\n",
       "      <td>Antonette</td>\n",
       "      <td>Shanna@melissa.tv</td>\n",
       "      <td>{'street': 'Victor Plains', 'suite': 'Suite 87...</td>\n",
       "      <td>010-692-6593 x09125</td>\n",
       "      <td>anastasia.net</td>\n",
       "      <td>{'name': 'Deckow-Crist', 'catchPhrase': 'Proac...</td>\n",
       "    </tr>\n",
       "    <tr>\n",
       "      <th>2</th>\n",
       "      <td>3</td>\n",
       "      <td>Clementine Bauch</td>\n",
       "      <td>Samantha</td>\n",
       "      <td>Nathan@yesenia.net</td>\n",
       "      <td>{'street': 'Douglas Extension', 'suite': 'Suit...</td>\n",
       "      <td>1-463-123-4447</td>\n",
       "      <td>ramiro.info</td>\n",
       "      <td>{'name': 'Romaguera-Jacobson', 'catchPhrase': ...</td>\n",
       "    </tr>\n",
       "    <tr>\n",
       "      <th>3</th>\n",
       "      <td>4</td>\n",
       "      <td>Patricia Lebsack</td>\n",
       "      <td>Karianne</td>\n",
       "      <td>Julianne.OConner@kory.org</td>\n",
       "      <td>{'street': 'Hoeger Mall', 'suite': 'Apt. 692',...</td>\n",
       "      <td>493-170-9623 x156</td>\n",
       "      <td>kale.biz</td>\n",
       "      <td>{'name': 'Robel-Corkery', 'catchPhrase': 'Mult...</td>\n",
       "    </tr>\n",
       "    <tr>\n",
       "      <th>4</th>\n",
       "      <td>5</td>\n",
       "      <td>Chelsey Dietrich</td>\n",
       "      <td>Kamren</td>\n",
       "      <td>Lucio_Hettinger@annie.ca</td>\n",
       "      <td>{'street': 'Skiles Walks', 'suite': 'Suite 351...</td>\n",
       "      <td>(254)954-1289</td>\n",
       "      <td>demarco.info</td>\n",
       "      <td>{'name': 'Keebler LLC', 'catchPhrase': 'User-c...</td>\n",
       "    </tr>\n",
       "    <tr>\n",
       "      <th>5</th>\n",
       "      <td>6</td>\n",
       "      <td>Mrs. Dennis Schulist</td>\n",
       "      <td>Leopoldo_Corkery</td>\n",
       "      <td>Karley_Dach@jasper.info</td>\n",
       "      <td>{'street': 'Norberto Crossing', 'suite': 'Apt....</td>\n",
       "      <td>1-477-935-8478 x6430</td>\n",
       "      <td>ola.org</td>\n",
       "      <td>{'name': 'Considine-Lockman', 'catchPhrase': '...</td>\n",
       "    </tr>\n",
       "    <tr>\n",
       "      <th>6</th>\n",
       "      <td>7</td>\n",
       "      <td>Kurtis Weissnat</td>\n",
       "      <td>Elwyn.Skiles</td>\n",
       "      <td>Telly.Hoeger@billy.biz</td>\n",
       "      <td>{'street': 'Rex Trail', 'suite': 'Suite 280', ...</td>\n",
       "      <td>210.067.6132</td>\n",
       "      <td>elvis.io</td>\n",
       "      <td>{'name': 'Johns Group', 'catchPhrase': 'Config...</td>\n",
       "    </tr>\n",
       "    <tr>\n",
       "      <th>7</th>\n",
       "      <td>8</td>\n",
       "      <td>Nicholas Runolfsdottir V</td>\n",
       "      <td>Maxime_Nienow</td>\n",
       "      <td>Sherwood@rosamond.me</td>\n",
       "      <td>{'street': 'Ellsworth Summit', 'suite': 'Suite...</td>\n",
       "      <td>586.493.6943 x140</td>\n",
       "      <td>jacynthe.com</td>\n",
       "      <td>{'name': 'Abernathy Group', 'catchPhrase': 'Im...</td>\n",
       "    </tr>\n",
       "    <tr>\n",
       "      <th>8</th>\n",
       "      <td>9</td>\n",
       "      <td>Glenna Reichert</td>\n",
       "      <td>Delphine</td>\n",
       "      <td>Chaim_McDermott@dana.io</td>\n",
       "      <td>{'street': 'Dayna Park', 'suite': 'Suite 449',...</td>\n",
       "      <td>(775)976-6794 x41206</td>\n",
       "      <td>conrad.com</td>\n",
       "      <td>{'name': 'Yost and Sons', 'catchPhrase': 'Swit...</td>\n",
       "    </tr>\n",
       "    <tr>\n",
       "      <th>9</th>\n",
       "      <td>10</td>\n",
       "      <td>Clementina DuBuque</td>\n",
       "      <td>Moriah.Stanton</td>\n",
       "      <td>Rey.Padberg@karina.biz</td>\n",
       "      <td>{'street': 'Kattie Turnpike', 'suite': 'Suite ...</td>\n",
       "      <td>024-648-3804</td>\n",
       "      <td>ambrose.net</td>\n",
       "      <td>{'name': 'Hoeger LLC', 'catchPhrase': 'Central...</td>\n",
       "    </tr>\n",
       "  </tbody>\n",
       "</table>\n",
       "</div>"
      ],
      "text/plain": [
       "   id                      name          username                      email  \\\n",
       "0   1             Leanne Graham              Bret          Sincere@april.biz   \n",
       "1   2              Ervin Howell         Antonette          Shanna@melissa.tv   \n",
       "2   3          Clementine Bauch          Samantha         Nathan@yesenia.net   \n",
       "3   4          Patricia Lebsack          Karianne  Julianne.OConner@kory.org   \n",
       "4   5          Chelsey Dietrich            Kamren   Lucio_Hettinger@annie.ca   \n",
       "5   6      Mrs. Dennis Schulist  Leopoldo_Corkery    Karley_Dach@jasper.info   \n",
       "6   7           Kurtis Weissnat      Elwyn.Skiles     Telly.Hoeger@billy.biz   \n",
       "7   8  Nicholas Runolfsdottir V     Maxime_Nienow       Sherwood@rosamond.me   \n",
       "8   9           Glenna Reichert          Delphine    Chaim_McDermott@dana.io   \n",
       "9  10        Clementina DuBuque    Moriah.Stanton     Rey.Padberg@karina.biz   \n",
       "\n",
       "                                             address                  phone  \\\n",
       "0  {'street': 'Kulas Light', 'suite': 'Apt. 556',...  1-770-736-8031 x56442   \n",
       "1  {'street': 'Victor Plains', 'suite': 'Suite 87...    010-692-6593 x09125   \n",
       "2  {'street': 'Douglas Extension', 'suite': 'Suit...         1-463-123-4447   \n",
       "3  {'street': 'Hoeger Mall', 'suite': 'Apt. 692',...      493-170-9623 x156   \n",
       "4  {'street': 'Skiles Walks', 'suite': 'Suite 351...          (254)954-1289   \n",
       "5  {'street': 'Norberto Crossing', 'suite': 'Apt....   1-477-935-8478 x6430   \n",
       "6  {'street': 'Rex Trail', 'suite': 'Suite 280', ...           210.067.6132   \n",
       "7  {'street': 'Ellsworth Summit', 'suite': 'Suite...      586.493.6943 x140   \n",
       "8  {'street': 'Dayna Park', 'suite': 'Suite 449',...   (775)976-6794 x41206   \n",
       "9  {'street': 'Kattie Turnpike', 'suite': 'Suite ...           024-648-3804   \n",
       "\n",
       "         website                                            company  \n",
       "0  hildegard.org  {'name': 'Romaguera-Crona', 'catchPhrase': 'Mu...  \n",
       "1  anastasia.net  {'name': 'Deckow-Crist', 'catchPhrase': 'Proac...  \n",
       "2    ramiro.info  {'name': 'Romaguera-Jacobson', 'catchPhrase': ...  \n",
       "3       kale.biz  {'name': 'Robel-Corkery', 'catchPhrase': 'Mult...  \n",
       "4   demarco.info  {'name': 'Keebler LLC', 'catchPhrase': 'User-c...  \n",
       "5        ola.org  {'name': 'Considine-Lockman', 'catchPhrase': '...  \n",
       "6       elvis.io  {'name': 'Johns Group', 'catchPhrase': 'Config...  \n",
       "7   jacynthe.com  {'name': 'Abernathy Group', 'catchPhrase': 'Im...  \n",
       "8     conrad.com  {'name': 'Yost and Sons', 'catchPhrase': 'Swit...  \n",
       "9    ambrose.net  {'name': 'Hoeger LLC', 'catchPhrase': 'Central...  "
      ]
     },
     "execution_count": 23,
     "metadata": {},
     "output_type": "execute_result"
    }
   ],
   "source": [
    "\n",
    "# Extract JSON Data\n",
    "json_url = \"https://jsonplaceholder.typicode.com/users\"\n",
    "df_json = pd.read_json(json_url)\n",
    "df_json"
   ]
  },
  {
   "cell_type": "code",
   "execution_count": 25,
   "id": "e9e69ebb-8396-4ad1-b466-1f22199c1e3f",
   "metadata": {},
   "outputs": [
    {
     "data": {
      "text/plain": [
       "id           int64\n",
       "name        object\n",
       "username    object\n",
       "email       object\n",
       "address     object\n",
       "phone       object\n",
       "website     object\n",
       "company     object\n",
       "dtype: object"
      ]
     },
     "execution_count": 25,
     "metadata": {},
     "output_type": "execute_result"
    }
   ],
   "source": [
    "\n",
    "df_json.dtypes"
   ]
  },
  {
   "cell_type": "code",
   "execution_count": 27,
   "id": "fcf9b17c-b73e-4482-b403-1d427c6b32f7",
   "metadata": {},
   "outputs": [
    {
     "data": {
      "text/plain": [
       "id          0\n",
       "name        0\n",
       "username    0\n",
       "email       0\n",
       "address     0\n",
       "phone       0\n",
       "website     0\n",
       "company     0\n",
       "dtype: int64"
      ]
     },
     "execution_count": 27,
     "metadata": {},
     "output_type": "execute_result"
    }
   ],
   "source": [
    "df_json.isnull().sum()"
   ]
  },
  {
   "cell_type": "code",
   "execution_count": 29,
   "id": "485d81b0-f625-41c5-a551-c7c3555e52ea",
   "metadata": {},
   "outputs": [
    {
     "name": "stdout",
     "output_type": "stream",
     "text": [
      "API Data:\n",
      "                                             weather      base  visibility  \\\n",
      "0  [{'id': 801, 'main': 'Clouds', 'description': ...  stations       10000   \n",
      "\n",
      "           dt  timezone       id    name  cod  coord.lon  coord.lat  ...  \\\n",
      "0  1741764667         0  2643743  London  200    -0.1257    51.5085  ...   \n",
      "\n",
      "   main.sea_level  main.grnd_level  wind.speed  wind.deg  clouds.all  \\\n",
      "0            1004             1000        2.57       280          17   \n",
      "\n",
      "   sys.type   sys.id  sys.country  sys.sunrise  sys.sunset  \n",
      "0         2  2091269           GB   1741760480  1741802358  \n",
      "\n",
      "[1 rows x 26 columns]\n"
     ]
    }
   ],
   "source": [
    "# Extract API Data (Weather Data)\n",
    "api_key = \"c6d622616af71712b32b3d31695efb70\"  # Default API key\n",
    "city = \"London\"  # Replace with your desired city\n",
    "api_url = f\"http://api.openweathermap.org/data/2.5/weather?q={city}&appid={api_key}\"\n",
    "\n",
    "try:\n",
    "    response = requests.get(api_url)\n",
    "    response.raise_for_status()  # Raise an exception for HTTP errors\n",
    "    api_data = response.json()\n",
    "    # Normalize and flatten the JSON data\n",
    "    df_api = pd.json_normalize(api_data)\n",
    "    print(\"API Data:\")\n",
    "    print(df_api.head())\n",
    "except requests.exceptions.HTTPError as http_err:\n",
    "    print(f\"HTTP error occurred: {http_err}\")\n",
    "except Exception as err:\n",
    "    print(f\"An error occurred: {err}\")"
   ]
  },
  {
   "cell_type": "code",
   "execution_count": 37,
   "id": "654c80f1-6bfa-4627-8699-b5dc97602b6e",
   "metadata": {},
   "outputs": [
    {
     "data": {
      "text/plain": [
       "weather             object\n",
       "base                object\n",
       "visibility           int64\n",
       "dt                   int64\n",
       "timezone             int64\n",
       "id                   int64\n",
       "name                object\n",
       "cod                  int64\n",
       "coord.lon          float64\n",
       "coord.lat          float64\n",
       "main.temp          float64\n",
       "main.feels_like    float64\n",
       "main.temp_min      float64\n",
       "main.temp_max      float64\n",
       "main.pressure        int64\n",
       "main.humidity        int64\n",
       "main.sea_level       int64\n",
       "main.grnd_level      int64\n",
       "wind.speed         float64\n",
       "wind.deg             int64\n",
       "clouds.all           int64\n",
       "sys.type             int64\n",
       "sys.id               int64\n",
       "sys.country         object\n",
       "sys.sunrise          int64\n",
       "sys.sunset           int64\n",
       "dtype: object"
      ]
     },
     "execution_count": 37,
     "metadata": {},
     "output_type": "execute_result"
    }
   ],
   "source": [
    "df_api.dtypes\n"
   ]
  },
  {
   "cell_type": "code",
   "execution_count": 39,
   "id": "d13e2ce0-abb9-4ef7-bb50-eb17b6eb8a8d",
   "metadata": {},
   "outputs": [
    {
     "data": {
      "text/plain": [
       "weather            0\n",
       "base               0\n",
       "visibility         0\n",
       "dt                 0\n",
       "timezone           0\n",
       "id                 0\n",
       "name               0\n",
       "cod                0\n",
       "coord.lon          0\n",
       "coord.lat          0\n",
       "main.temp          0\n",
       "main.feels_like    0\n",
       "main.temp_min      0\n",
       "main.temp_max      0\n",
       "main.pressure      0\n",
       "main.humidity      0\n",
       "main.sea_level     0\n",
       "main.grnd_level    0\n",
       "wind.speed         0\n",
       "wind.deg           0\n",
       "clouds.all         0\n",
       "sys.type           0\n",
       "sys.id             0\n",
       "sys.country        0\n",
       "sys.sunrise        0\n",
       "sys.sunset         0\n",
       "dtype: int64"
      ]
     },
     "execution_count": 39,
     "metadata": {},
     "output_type": "execute_result"
    }
   ],
   "source": [
    "df_api.isnull().sum()"
   ]
  },
  {
   "cell_type": "code",
   "execution_count": 57,
   "id": "6a52ed0f-3ab1-47cd-88df-40b11c103270",
   "metadata": {},
   "outputs": [],
   "source": [
    "# Clean CSV data\n",
    "df_csv_cleaned = df_csv[['PassengerId', 'Name', 'Sex', 'Age', 'Fare']].dropna()"
   ]
  },
  {
   "cell_type": "code",
   "execution_count": 59,
   "id": "812dba65-58bc-4278-b127-701d879533f9",
   "metadata": {},
   "outputs": [],
   "source": [
    "# Clean JSON data\n",
    "df_json_cleaned = df_json[['id', 'name', 'email']].rename(columns={'name': 'employee_name'})"
   ]
  },
  {
   "cell_type": "code",
   "execution_count": 61,
   "id": "00c1bb66-2645-4230-bc14-90dc336570ef",
   "metadata": {},
   "outputs": [],
   "source": [
    "# Transform API data to have a mock 'id' column and select relevant columns\n",
    "df_api_cleaned = df_api[['weather', 'main.temp', 'main.humidity']].rename(columns={'main.temp': 'temperature', 'main.humidity': 'humidity'})\n",
    "df_api_cleaned['id'] = df_csv_cleaned['PassengerId'] % 10  # Mock 'id' for merging"
   ]
  },
  {
   "cell_type": "code",
   "execution_count": 86,
   "id": "68ada897-af81-4248-9199-05501c7b7d8c",
   "metadata": {},
   "outputs": [],
   "source": [
    "# Remove lists from 'weather' column\n",
    "df_api_cleaned['weather'] = df_api_cleaned['weather'].apply(lambda x: x[0]['description'] if isinstance(x, list) else x)\n"
   ]
  },
  {
   "cell_type": "code",
   "execution_count": 65,
   "id": "d2b7b4d1-5b72-4805-8e35-03e91e3fcb21",
   "metadata": {},
   "outputs": [],
   "source": [
    "# Merge datasets for demonstration\n",
    "df_csv_cleaned['id'] = df_csv_cleaned['PassengerId'] % 10  # Mock 'id' for merging\n",
    "df_merged = pd.merge(df_csv_cleaned, df_json_cleaned, on='id', how='inner')\n",
    "df_final = pd.merge(df_merged, df_api_cleaned, on='id', how='inner')"
   ]
  },
  {
   "cell_type": "code",
   "execution_count": 67,
   "id": "1dc4cee8-439a-4d13-a9ce-76bcc64ed21d",
   "metadata": {},
   "outputs": [],
   "source": [
    "conn = sqlite3.connect('my_warehouse.db')"
   ]
  },
  {
   "cell_type": "code",
   "execution_count": 69,
   "id": "95c37480-7d2d-49f5-9151-f8d201909141",
   "metadata": {},
   "outputs": [
    {
     "data": {
      "text/plain": [
       "72"
      ]
     },
     "execution_count": 69,
     "metadata": {},
     "output_type": "execute_result"
    }
   ],
   "source": [
    "# Load transformed data into SQLite\n",
    "df_final.to_sql('final_data', conn, if_exists='replace', index=False)"
   ]
  },
  {
   "cell_type": "code",
   "execution_count": 71,
   "id": "097d14c2-69ad-4bda-b440-120cd0195e05",
   "metadata": {},
   "outputs": [
    {
     "name": "stdout",
     "output_type": "stream",
     "text": [
      "   PassengerId                                            Name     Sex   Age  \\\n",
      "0            1                         Braund, Mr. Owen Harris    male  22.0   \n",
      "1           11                 Sandstrom, Miss. Marguerite Rut  female   4.0   \n",
      "2           21                            Fynney, Mr. Joseph J    male  35.0   \n",
      "3           31                        Uruchurtu, Don. Manuel E    male  40.0   \n",
      "4           41  Ahlin, Mrs. Johan (Johanna Persdotter Larsson)  female  40.0   \n",
      "\n",
      "      Fare  id  employee_name              email     weather  temperature  \\\n",
      "0   7.2500   1  Leanne Graham  Sincere@april.biz  few clouds        277.2   \n",
      "1  16.7000   1  Leanne Graham  Sincere@april.biz  few clouds        277.2   \n",
      "2  26.0000   1  Leanne Graham  Sincere@april.biz  few clouds        277.2   \n",
      "3  27.7208   1  Leanne Graham  Sincere@april.biz  few clouds        277.2   \n",
      "4   9.4750   1  Leanne Graham  Sincere@april.biz  few clouds        277.2   \n",
      "\n",
      "   humidity  \n",
      "0        81  \n",
      "1        81  \n",
      "2        81  \n",
      "3        81  \n",
      "4        81  \n"
     ]
    }
   ],
   "source": [
    "print(pd.read_sql('SELECT * FROM final_data LIMIT 5', conn))"
   ]
  },
  {
   "cell_type": "code",
   "execution_count": 75,
   "id": "a0cd98d0-9d8d-4c20-b721-46701ed68535",
   "metadata": {},
   "outputs": [
    {
     "data": {
      "text/plain": [
       "642"
      ]
     },
     "execution_count": 75,
     "metadata": {},
     "output_type": "execute_result"
    }
   ],
   "source": [
    "df_merged.to_sql('df_merged', conn, if_exists='replace', index=False)"
   ]
  },
  {
   "cell_type": "code",
   "execution_count": 77,
   "id": "97d9b235-d60b-493f-bc79-c48c8aa686c2",
   "metadata": {},
   "outputs": [
    {
     "name": "stdout",
     "output_type": "stream",
     "text": [
      "   PassengerId                                               Name     Sex  \\\n",
      "0            1                            Braund, Mr. Owen Harris    male   \n",
      "1            2  Cumings, Mrs. John Bradley (Florence Briggs Th...  female   \n",
      "2            3                             Heikkinen, Miss. Laina  female   \n",
      "3            4       Futrelle, Mrs. Jacques Heath (Lily May Peel)  female   \n",
      "4            5                           Allen, Mr. William Henry    male   \n",
      "\n",
      "    Age     Fare  id     employee_name                      email  \n",
      "0  22.0   7.2500   1     Leanne Graham          Sincere@april.biz  \n",
      "1  38.0  71.2833   2      Ervin Howell          Shanna@melissa.tv  \n",
      "2  26.0   7.9250   3  Clementine Bauch         Nathan@yesenia.net  \n",
      "3  35.0  53.1000   4  Patricia Lebsack  Julianne.OConner@kory.org  \n",
      "4  35.0   8.0500   5  Chelsey Dietrich   Lucio_Hettinger@annie.ca  \n"
     ]
    }
   ],
   "source": [
    "print(pd.read_sql('SELECT * FROM df_merged LIMIT 5', conn))"
   ]
  },
  {
   "cell_type": "code",
   "execution_count": null,
   "id": "4c62132c-7a77-4d20-ac17-49f897637dd2",
   "metadata": {},
   "outputs": [],
   "source": []
  }
 ],
 "metadata": {
  "kernelspec": {
   "display_name": "Python 3 (ipykernel)",
   "language": "python",
   "name": "python3"
  },
  "language_info": {
   "codemirror_mode": {
    "name": "ipython",
    "version": 3
   },
   "file_extension": ".py",
   "mimetype": "text/x-python",
   "name": "python",
   "nbconvert_exporter": "python",
   "pygments_lexer": "ipython3",
   "version": "3.12.7"
  }
 },
 "nbformat": 4,
 "nbformat_minor": 5
}
